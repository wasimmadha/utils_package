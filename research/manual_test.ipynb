{
 "cells": [
  {
   "cell_type": "code",
   "execution_count": 1,
   "metadata": {},
   "outputs": [],
   "source": [
    "import sys\n",
    "\n",
    "from IPython import display\n",
    "from ensure import ensure_annotations\n",
    "from py_youtube import Data\n",
    "\n",
    "URL = 'https://www.youtube.com/watch?v=1-68pFs_HIE&list=PLrdaCCBhU_hlLUujFA5KUjb3yathXilut&index=3'\n",
    "data = Data(URL).data()\n"
   ]
  },
  {
   "cell_type": "code",
   "execution_count": 2,
   "metadata": {},
   "outputs": [
    {
     "data": {
      "text/plain": [
       "{'id': '1-68pFs_HIE',\n",
       " 'title': '002 Create 1st functionality: Rendering #youtube video in a #jupyternotebook | #c17hawke',\n",
       " 'thumbnails': 'https://i.ytimg.com/vi/1-68pFs_HIE/hqdefault.jpg?sqp=-oaymwEbCKgBEF5IVfKriqkDDggBFQAAiEIYAXABwAEG\\\\u0026rs=AOn4CLAyrKu3Ipe7Rybpy0sgcKTzDE_Dig',\n",
       " 'views': '109',\n",
       " 'likes': '8',\n",
       " 'dislikes': None,\n",
       " 'publishdate': '2022-09-09',\n",
       " 'category': 'Education',\n",
       " 'channel_name': 'SUNNY BHAVEEN CHANDRA',\n",
       " 'subscriber': '1K',\n",
       " 'keywords': 'python, ai, artificial intelligence, data science, developement, github, pypi, pypi python, python packages, vscode, vscode python, pyproject.toml, setup.cfg, setup.py, tox, mypy, flake8, pypi.org, pip, basics, intermediate, pytest, pytest fixture, pytest vscode, github actions, github actions ci/cd, mkdocs-material, github project, github project management, python modules, python modules for beginners, python modules to learn, yt:cc=on'}"
      ]
     },
     "execution_count": 2,
     "metadata": {},
     "output_type": "execute_result"
    }
   ],
   "source": [
    "data"
   ]
  },
  {
   "cell_type": "code",
   "execution_count": null,
   "metadata": {},
   "outputs": [],
   "source": []
  }
 ],
 "metadata": {
  "kernelspec": {
   "display_name": "Python 3.9.12 64-bit",
   "language": "python",
   "name": "python3"
  },
  "language_info": {
   "codemirror_mode": {
    "name": "ipython",
    "version": 3
   },
   "file_extension": ".py",
   "mimetype": "text/x-python",
   "name": "python",
   "nbconvert_exporter": "python",
   "pygments_lexer": "ipython3",
   "version": "3.9.12"
  },
  "orig_nbformat": 4,
  "vscode": {
   "interpreter": {
    "hash": "6d34d7917548ee640d847486ced19568f6502c47845734a38c6d6fef27e006ff"
   }
  }
 },
 "nbformat": 4,
 "nbformat_minor": 2
}
